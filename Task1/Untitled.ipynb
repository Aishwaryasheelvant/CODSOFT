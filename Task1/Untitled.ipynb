{
 "cells": [
  {
   "cell_type": "code",
   "execution_count": 1,
   "id": "9a3e8d4b-ed3d-472c-85c1-28cf403ca07a",
   "metadata": {},
   "outputs": [],
   "source": [
    "import pandas as pd\n",
    "import numpy as np\n",
    "\n",
    "import seaborn as sns\n",
    "import matplotlib.pyplot as plt\n",
    "%matplotlib inline\n",
    "\n",
    "sns.set(rc={'figure.figsize': (12,10)})\n",
    "\n",
    "import warnings\n",
    "warnings.filterwarnings('ignore')"
   ]
  },
  {
   "cell_type": "code",
   "execution_count": 2,
   "id": "5a0c6efb-5911-4bed-b3dc-b319f3a7f068",
   "metadata": {},
   "outputs": [],
   "source": [
    "import random\n",
    "random.seed(101)"
   ]
  },
  {
   "cell_type": "code",
   "execution_count": 7,
   "id": "d0d0b07d-0c0e-4f3c-99dc-448880f7f112",
   "metadata": {},
   "outputs": [
    {
     "data": {
      "text/html": [
       "<div>\n",
       "<style scoped>\n",
       "    .dataframe tbody tr th:only-of-type {\n",
       "        vertical-align: middle;\n",
       "    }\n",
       "\n",
       "    .dataframe tbody tr th {\n",
       "        vertical-align: top;\n",
       "    }\n",
       "\n",
       "    .dataframe thead th {\n",
       "        text-align: right;\n",
       "    }\n",
       "</style>\n",
       "<table border=\"1\" class=\"dataframe\">\n",
       "  <thead>\n",
       "    <tr style=\"text-align: right;\">\n",
       "      <th></th>\n",
       "      <th>PassengerId</th>\n",
       "      <th>Survived</th>\n",
       "      <th>Pclass</th>\n",
       "      <th>Name</th>\n",
       "      <th>Sex</th>\n",
       "      <th>Age</th>\n",
       "      <th>SibSp</th>\n",
       "      <th>Parch</th>\n",
       "      <th>Ticket</th>\n",
       "      <th>Fare</th>\n",
       "      <th>Cabin</th>\n",
       "      <th>Embarked</th>\n",
       "    </tr>\n",
       "  </thead>\n",
       "  <tbody>\n",
       "    <tr>\n",
       "      <th>0</th>\n",
       "      <td>1</td>\n",
       "      <td>0</td>\n",
       "      <td>3</td>\n",
       "      <td>Braund, Mr. Owen Harris</td>\n",
       "      <td>male</td>\n",
       "      <td>22.0</td>\n",
       "      <td>1</td>\n",
       "      <td>0</td>\n",
       "      <td>A/5 21171</td>\n",
       "      <td>7.2500</td>\n",
       "      <td>NaN</td>\n",
       "      <td>S</td>\n",
       "    </tr>\n",
       "    <tr>\n",
       "      <th>1</th>\n",
       "      <td>2</td>\n",
       "      <td>1</td>\n",
       "      <td>1</td>\n",
       "      <td>Cumings, Mrs. John Bradley (Florence Briggs Th...</td>\n",
       "      <td>female</td>\n",
       "      <td>38.0</td>\n",
       "      <td>1</td>\n",
       "      <td>0</td>\n",
       "      <td>PC 17599</td>\n",
       "      <td>71.2833</td>\n",
       "      <td>C85</td>\n",
       "      <td>C</td>\n",
       "    </tr>\n",
       "    <tr>\n",
       "      <th>2</th>\n",
       "      <td>3</td>\n",
       "      <td>1</td>\n",
       "      <td>3</td>\n",
       "      <td>Heikkinen, Miss. Laina</td>\n",
       "      <td>female</td>\n",
       "      <td>26.0</td>\n",
       "      <td>0</td>\n",
       "      <td>0</td>\n",
       "      <td>STON/O2. 3101282</td>\n",
       "      <td>7.9250</td>\n",
       "      <td>NaN</td>\n",
       "      <td>S</td>\n",
       "    </tr>\n",
       "    <tr>\n",
       "      <th>3</th>\n",
       "      <td>4</td>\n",
       "      <td>1</td>\n",
       "      <td>1</td>\n",
       "      <td>Futrelle, Mrs. Jacques Heath (Lily May Peel)</td>\n",
       "      <td>female</td>\n",
       "      <td>35.0</td>\n",
       "      <td>1</td>\n",
       "      <td>0</td>\n",
       "      <td>113803</td>\n",
       "      <td>53.1000</td>\n",
       "      <td>C123</td>\n",
       "      <td>S</td>\n",
       "    </tr>\n",
       "    <tr>\n",
       "      <th>4</th>\n",
       "      <td>5</td>\n",
       "      <td>0</td>\n",
       "      <td>3</td>\n",
       "      <td>Allen, Mr. William Henry</td>\n",
       "      <td>male</td>\n",
       "      <td>35.0</td>\n",
       "      <td>0</td>\n",
       "      <td>0</td>\n",
       "      <td>373450</td>\n",
       "      <td>8.0500</td>\n",
       "      <td>NaN</td>\n",
       "      <td>S</td>\n",
       "    </tr>\n",
       "  </tbody>\n",
       "</table>\n",
       "</div>"
      ],
      "text/plain": [
       "   PassengerId  Survived  Pclass  \\\n",
       "0            1         0       3   \n",
       "1            2         1       1   \n",
       "2            3         1       3   \n",
       "3            4         1       1   \n",
       "4            5         0       3   \n",
       "\n",
       "                                                Name     Sex   Age  SibSp  \\\n",
       "0                            Braund, Mr. Owen Harris    male  22.0      1   \n",
       "1  Cumings, Mrs. John Bradley (Florence Briggs Th...  female  38.0      1   \n",
       "2                             Heikkinen, Miss. Laina  female  26.0      0   \n",
       "3       Futrelle, Mrs. Jacques Heath (Lily May Peel)  female  35.0      1   \n",
       "4                           Allen, Mr. William Henry    male  35.0      0   \n",
       "\n",
       "   Parch            Ticket     Fare Cabin Embarked  \n",
       "0      0         A/5 21171   7.2500   NaN        S  \n",
       "1      0          PC 17599  71.2833   C85        C  \n",
       "2      0  STON/O2. 3101282   7.9250   NaN        S  \n",
       "3      0            113803  53.1000  C123        S  \n",
       "4      0            373450   8.0500   NaN        S  "
      ]
     },
     "execution_count": 7,
     "metadata": {},
     "output_type": "execute_result"
    }
   ],
   "source": [
    "data = pd.read_csv('Titanic-Dataset.csv')\n",
    "data.head()"
   ]
  },
  {
   "cell_type": "code",
   "execution_count": 8,
   "id": "c4b358a9-2feb-4dd5-ac41-7019eee85051",
   "metadata": {},
   "outputs": [
    {
     "name": "stdout",
     "output_type": "stream",
     "text": [
      "<class 'pandas.core.frame.DataFrame'>\n",
      "RangeIndex: 891 entries, 0 to 890\n",
      "Data columns (total 12 columns):\n",
      " #   Column       Non-Null Count  Dtype  \n",
      "---  ------       --------------  -----  \n",
      " 0   PassengerId  891 non-null    int64  \n",
      " 1   Survived     891 non-null    int64  \n",
      " 2   Pclass       891 non-null    int64  \n",
      " 3   Name         891 non-null    object \n",
      " 4   Sex          891 non-null    object \n",
      " 5   Age          714 non-null    float64\n",
      " 6   SibSp        891 non-null    int64  \n",
      " 7   Parch        891 non-null    int64  \n",
      " 8   Ticket       891 non-null    object \n",
      " 9   Fare         891 non-null    float64\n",
      " 10  Cabin        204 non-null    object \n",
      " 11  Embarked     889 non-null    object \n",
      "dtypes: float64(2), int64(5), object(5)\n",
      "memory usage: 83.7+ KB\n"
     ]
    }
   ],
   "source": [
    "data.info()"
   ]
  },
  {
   "cell_type": "code",
   "execution_count": 9,
   "id": "449752b3-541b-454d-8e5d-e0aad4560e68",
   "metadata": {},
   "outputs": [],
   "source": [
    "dict_live = {\n",
    "    0: 'Died',\n",
    "    1: 'Survived'\n",
    "}\n",
    "\n",
    "dict_sex = {\n",
    "    'male': 0,\n",
    "    'female': 1\n",
    "}\n",
    "\n",
    "data['Bsex'] = data['Sex'].apply(lambda x: dict_sex[x])\n",
    "\n",
    "# features\n",
    "features = data[['Pclass', 'Bsex']].to_numpy()\n",
    "labels = data['Survived'].to_numpy()"
   ]
  },
  {
   "cell_type": "code",
   "execution_count": 10,
   "id": "5bdb21f3-d961-434c-99ea-64aacd46f313",
   "metadata": {},
   "outputs": [],
   "source": [
    "from sklearn.model_selection import train_test_split\n",
    "\n",
    "X_train, X_test, Y_train, Y_test = train_test_split(features, labels, test_size=0.30, random_state=0)"
   ]
  },
  {
   "cell_type": "code",
   "execution_count": 11,
   "id": "c04bf003-91a2-48e1-a519-09729a468c38",
   "metadata": {},
   "outputs": [],
   "source": [
    "# Sigmoid\n",
    "def Sigmoid(x, derivative=False):\n",
    "    if derivative == True:\n",
    "        f = 1/(1 + np.exp(-x)) * (1 - 1/(1 + np.exp(-x)))\n",
    "    else:\n",
    "        f = 1/(1 + np.exp(-x))\n",
    "\n",
    "    return f\n",
    "\n",
    "# ReLU\n",
    "def ReLU(x, derivative=False):\n",
    "    if derivative == True:\n",
    "        f = np.heaviside(x, 1)\n",
    "    else:\n",
    "        f = np.maximum(x, 0)\n",
    "\n",
    "    return f"
   ]
  },
  {
   "cell_type": "code",
   "execution_count": 12,
   "id": "97374f6a-31c6-4a11-ba45-fe883efc073d",
   "metadata": {},
   "outputs": [],
   "source": [
    "def train_ANN(X_train, Y_train, h1_units=4, h2_units=4, learning_rate=0.0015):\n",
    "    random.seed(101)\n",
    "\n",
    "    # hidden layer 1\n",
    "    w1 = 2*np.random.rand(h1_units, X_train.shape[1])\n",
    "    b1 = np.random.rand(h1_units)\n",
    "\n",
    "    # hidden layer 2\n",
    "    w2 = 2*np.random.rand(h2_units, h1_units)\n",
    "    b2 = np.random.rand(h2_units)\n",
    "\n",
    "    # output layer\n",
    "    w_out = 2 * np.random.rand(h2_units)\n",
    "    b_out = np.random.rand(1)\n",
    "\n",
    "    loss = []\n",
    "    vec_y = []\n",
    "\n",
    "    for i in range(0, X_train.shape[0]):\n",
    "        x_data = X_train[i]\n",
    "\n",
    "        # Forward Propagation\n",
    "        h1 = ReLU(np.dot(w1, x_data) + b1)\n",
    "        h2 = ReLU(np.dot(w2, h1) + b2)\n",
    "        y = Sigmoid(np.dot(w_out, h2) + b_out)\n",
    "\n",
    "        # Back Propagation\n",
    "        delta_out = (y - Y_train[i]) * Sigmoid(y, derivative=True)\n",
    "        delta_2 = delta_out * w_out * ReLU(h2, derivative=True)\n",
    "        delta_1 = np.dot(delta_2, w2) * ReLU(h1, derivative=True)\n",
    "\n",
    "        # Gradient Descent\n",
    "        w_out = w_out - learning_rate * delta_out * h2\n",
    "        b_out = b_out - learning_rate * delta_out\n",
    "\n",
    "        # hidden layer 2\n",
    "        w2 = w2 - learning_rate * np.kron(delta_2, h1).reshape(h2_units, h1_units)\n",
    "        b2 = b2 - learning_rate * delta_2\n",
    "\n",
    "        # hidden layer 1\n",
    "        w1 = w1 - learning_rate * np.kron(delta_1, x_data).reshape(h1_units, x_data.shape[0])\n",
    "        b1 = b1 - learning_rate * delta_1\n",
    "\n",
    "        # cost\n",
    "        loss.append((1/2) * (y - Y_train[i])**2)\n",
    "        vec_y.append(y[0])\n",
    "\n",
    "    batch_loss = []\n",
    "    for i in range(0, 10):\n",
    "        loss_avg = 0\n",
    "        for m in range(0, 60):\n",
    "            loss_avg += vec_y[60*i + m]/60\n",
    "        batch_loss.append(loss_avg)\n",
    "\n",
    "    plt.figure(figsize=(10,6))\n",
    "    plt.plot(np.arange(1, len(batch_loss)+1), batch_loss)\n",
    "    plt.title('Average Loss by Epoch', fontsize=20)\n",
    "    plt.xlabel('Epoch', fontsize=16)\n",
    "    plt.ylabel('Loss', fontsize=16)\n",
    "    plt.show()\n",
    "\n",
    "    return w1, b1, w2, b2, w_out, b_out, loss"
   ]
  },
  {
   "cell_type": "code",
   "execution_count": 13,
   "id": "2c3b8988-0d36-4a60-81ae-21e06ace99fb",
   "metadata": {},
   "outputs": [
    {
     "data": {
      "image/png": "[encoded data removed]",
      "text/plain": [
       "<Figure size 1000x600 with 1 Axes>"
      ]
     },
     "metadata": {},
     "output_type": "display_data"
    }
   ],
   "source": [
    "w1, b1, w2, b2, w_out, b_out, loss = train_ANN(X_train, Y_train)\n"
   ]
  },
  {
   "cell_type": "code",
   "execution_count": 14,
   "id": "37a26d2a-fef3-4a03-b9fb-68ed77914f78",
   "metadata": {},
   "outputs": [],
   "source": [
    "def ANN_pred(X_test, w1, b1, w2, b2, w_out, b_out):\n",
    "    pred = []\n",
    "    \n",
    "    for i in range(0, X_test.shape[0]):\n",
    "        x = X_test[i]\n",
    "\n",
    "        # Forward Propagation\n",
    "        z1 = ReLU(np.dot(w1, x) + b1)\n",
    "        z2 = ReLU(np.dot(w2, z1) + b2)\n",
    "        y = Sigmoid(np.dot(w_out, z2) + b_out)\n",
    "\n",
    "        pred.append(np.heaviside(y-0.5, 1)[0])\n",
    "\n",
    "    return np.array(pred)"
   ]
  },
  {
   "cell_type": "code",
   "execution_count": 15,
   "id": "8cf3b1d9-dfca-4e16-b328-8cd0e556f50c",
   "metadata": {},
   "outputs": [],
   "source": [
    "predictions = ANN_pred(X_test, w1, b1, w2, b2, w_out, b_out)"
   ]
  },
  {
   "cell_type": "code",
   "execution_count": 16,
   "id": "68e13546-6431-4bc7-b9ec-d5717b706fd8",
   "metadata": {},
   "outputs": [
    {
     "data": {
      "text/plain": [
       "array([1., 1., 1., 1., 0., 1., 1., 1., 1., 0., 1., 1., 1., 1., 1., 0., 1.,\n",
       "       1., 1., 1., 1., 1., 1., 1., 0., 1., 1., 0., 1., 0., 1., 1., 1., 1.,\n",
       "       1., 1., 1., 1., 1., 1., 1., 1., 1., 1., 1., 1., 1., 1., 1., 1., 1.,\n",
       "       1., 1., 1., 1., 1., 1., 0., 1., 1., 1., 0., 1., 1., 0., 1., 1., 1.,\n",
       "       1., 1., 1., 1., 1., 1., 1., 1., 1., 1., 1., 1., 1., 1., 1., 1., 1.,\n",
       "       1., 1., 0., 1., 1., 1., 1., 1., 1., 0., 1., 1., 1., 1., 1., 1., 1.,\n",
       "       1., 1., 0., 0., 1., 0., 1., 0., 1., 1., 1., 0., 1., 1., 0., 1., 1.,\n",
       "       1., 1., 1., 1., 1., 1., 1., 1., 1., 1., 1., 0., 1., 1., 0., 1., 1.,\n",
       "       1., 0., 1., 1., 1., 1., 1., 0., 1., 0., 1., 1., 1., 1., 1., 0., 0.,\n",
       "       1., 1., 1., 0., 1., 0., 0., 1., 1., 1., 0., 1., 1., 1., 1., 1., 1.,\n",
       "       1., 1., 1., 1., 0., 1., 1., 1., 1., 0., 1., 1., 1., 1., 1., 1., 0.,\n",
       "       1., 1., 1., 0., 1., 0., 0., 1., 1., 1., 0., 1., 1., 1., 0., 1., 0.,\n",
       "       1., 1., 0., 1., 0., 1., 1., 1., 1., 0., 1., 1., 1., 1., 0., 1., 1.,\n",
       "       1., 0., 1., 0., 1., 1., 1., 1., 1., 1., 1., 0., 0., 1., 1., 1., 1.,\n",
       "       1., 1., 1., 1., 1., 1., 1., 1., 0., 1., 1., 0., 1., 1., 1., 1., 0.,\n",
       "       0., 0., 1., 1., 1., 1., 1., 1., 1., 1., 1., 0., 1.])"
      ]
     },
     "execution_count": 16,
     "metadata": {},
     "output_type": "execute_result"
    }
   ],
   "source": [
    "predictions"
   ]
  },
  {
   "cell_type": "code",
   "execution_count": 17,
   "id": "91b5dbda-584a-4ab3-a9c7-b0c0a93c174d",
   "metadata": {},
   "outputs": [],
   "source": [
    "from sklearn.metrics import accuracy_score, confusion_matrix\n",
    "\n",
    "cm = confusion_matrix(Y_test, predictions)\n",
    "\n",
    "df_cm = pd.DataFrame(cm, index = [dict_live[i] for i in range(0,2)],\n",
    "                         columns= [dict_live[i] for i in range(0,2)])"
   ]
  },
  {
   "cell_type": "code",
   "execution_count": 18,
   "id": "53064459-4474-4481-8b31-0eecfff6221f",
   "metadata": {},
   "outputs": [
    {
     "data": {
      "text/html": [
       "<div>\n",
       "<style scoped>\n",
       "    .dataframe tbody tr th:only-of-type {\n",
       "        vertical-align: middle;\n",
       "    }\n",
       "\n",
       "    .dataframe tbody tr th {\n",
       "        vertical-align: top;\n",
       "    }\n",
       "\n",
       "    .dataframe thead th {\n",
       "        text-align: right;\n",
       "    }\n",
       "</style>\n",
       "<table border=\"1\" class=\"dataframe\">\n",
       "  <thead>\n",
       "    <tr style=\"text-align: right;\">\n",
       "      <th></th>\n",
       "      <th>Died</th>\n",
       "      <th>Survived</th>\n",
       "    </tr>\n",
       "  </thead>\n",
       "  <tbody>\n",
       "    <tr>\n",
       "      <th>Died</th>\n",
       "      <td>27</td>\n",
       "      <td>141</td>\n",
       "    </tr>\n",
       "    <tr>\n",
       "      <th>Survived</th>\n",
       "      <td>24</td>\n",
       "      <td>76</td>\n",
       "    </tr>\n",
       "  </tbody>\n",
       "</table>\n",
       "</div>"
      ],
      "text/plain": [
       "          Died  Survived\n",
       "Died        27       141\n",
       "Survived    24        76"
      ]
     },
     "execution_count": 18,
     "metadata": {},
     "output_type": "execute_result"
    }
   ],
   "source": [
    "df_cm"
   ]
  },
  {
   "cell_type": "code",
   "execution_count": 19,
   "id": "edd9c2ef-8780-4730-9b82-d35812a50f1c",
   "metadata": {},
   "outputs": [
    {
     "data": {
      "image/png": "[encoded data removed]",
      "text/plain": [
       "<Figure size 600x600 with 2 Axes>"
      ]
     },
     "metadata": {},
     "output_type": "display_data"
    }
   ],
   "source": [
    "plt.figure(figsize=(6,6))\n",
    "sns.heatmap(df_cm, annot=True, cmap=plt.cm.Blues, fmt='g')\n",
    "plt.xlabel('Predicted Class', fontsize=18)\n",
    "plt.ylabel('True Class', fontsize=18)\n",
    "plt.show()"
   ]
  },
  {
   "cell_type": "code",
   "execution_count": 20,
   "id": "26dcb75d-edd7-44d7-a4df-185d8cd8d712",
   "metadata": {},
   "outputs": [
    {
     "data": {
      "text/plain": [
       "0.3843283582089552"
      ]
     },
     "execution_count": 20,
     "metadata": {},
     "output_type": "execute_result"
    }
   ],
   "source": [
    "accuracy_score(Y_test, predictions)"
   ]
  },
  {
   "cell_type": "code",
   "execution_count": null,
   "id": "5c181717-dfd1-4e00-b306-6a44d503b530",
   "metadata": {},
   "outputs": [],
   "source": []
  }
 ],
 "metadata": {
  "kernelspec": {
   "display_name": "Python 3 (ipykernel)",
   "language": "python",
   "name": "python3"
  },
  "language_info": {
   "codemirror_mode": {
    "name": "ipython",
    "version": 3
   },
   "file_extension": ".py",
   "mimetype": "text/x-python",
   "name": "python",
   "nbconvert_exporter": "python",
   "pygments_lexer": "ipython3",
   "version": "3.11.5"
  }
 },
 "nbformat": 4,
 "nbformat_minor": 5
}
